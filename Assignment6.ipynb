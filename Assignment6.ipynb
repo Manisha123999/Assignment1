{
  "nbformat": 4,
  "nbformat_minor": 0,
  "metadata": {
    "colab": {
      "provenance": [],
      "authorship_tag": "ABX9TyMVFhHOw+HL7nnBZaxHMvz1",
      "include_colab_link": true
    },
    "kernelspec": {
      "name": "python3",
      "display_name": "Python 3"
    },
    "language_info": {
      "name": "python"
    }
  },
  "cells": [
    {
      "cell_type": "markdown",
      "metadata": {
        "id": "view-in-github",
        "colab_type": "text"
      },
      "source": [
        "<a href=\"https://colab.research.google.com/github/Manisha123999/Assignment1/blob/master/Assignment6.ipynb\" target=\"_parent\"><img src=\"https://colab.research.google.com/assets/colab-badge.svg\" alt=\"Open In Colab\"/></a>"
      ]
    },
    {
      "cell_type": "markdown",
      "source": [
        "Exercise 1"
      ],
      "metadata": {
        "id": "H043oRxvdOqN"
      }
    },
    {
      "cell_type": "code",
      "source": [
        "import pandas as pd\n",
        "from sklearn.model_selection import train_test_split\n",
        "from sklearn.svm import SVC\n",
        "from sklearn.metrics import confusion_matrix, classification_report\n",
        "\n",
        "# Step 0: Read data into a pandas dataframe\n",
        "data = pd.read_csv(\"/content/data_banknote_authentication.csv\")\n",
        "\n",
        "# Step 1: Split the data into features (X) and target variable (y)\n",
        "X = data.drop(\"class\", axis=1)\n",
        "y = data[\"class\"]\n",
        "\n",
        "# Step 2: Split the data into training and testing sets\n",
        "X_train, X_test, y_train, y_test = train_test_split(X, y, test_size=0.2, random_state=20)\n",
        "\n",
        "# Step 3: Use support vector classifier with linear kernel to fit to the training data\n",
        "linear_svc = SVC(kernel='linear')\n",
        "linear_svc.fit(X_train, y_train)\n",
        "\n",
        "# Step 4: Predict on the testing data and compute the confusion matrix and classification report\n",
        "linear_predictions = linear_svc.predict(X_test)\n",
        "linear_conf_matrix = confusion_matrix(y_test, linear_predictions)\n",
        "linear_class_report = classification_report(y_test, linear_predictions)\n",
        "\n",
        "# Step 5: Repeat steps 3 and 4 for the radial basis function kernel\n",
        "rbf_svc = SVC(kernel='rbf')\n",
        "rbf_svc.fit(X_train, y_train)\n",
        "rbf_predictions = rbf_svc.predict(X_test)\n",
        "rbf_conf_matrix = confusion_matrix(y_test, rbf_predictions)\n",
        "rbf_class_report = classification_report(y_test, rbf_predictions)\n",
        "\n",
        "# Step 6: Compare the two SVM models\n",
        "# You can analyze the performance metrics (confusion matrix, classification report) and compare them for the linear and RBF kernels.\n",
        "# For example:\n",
        "print(\"Linear Kernel SVM Results:\")\n",
        "print(\"Confusion Matrix:\")\n",
        "print(linear_conf_matrix)\n",
        "print(\"Classification Report:\")\n",
        "print(linear_class_report)\n",
        "\n",
        "print(\"\\nRBF Kernel SVM Results:\")\n",
        "print(\"Confusion Matrix:\")\n",
        "print(rbf_conf_matrix)\n",
        "print(\"Classification Report:\")\n",
        "print(rbf_class_report)"
      ],
      "metadata": {
        "colab": {
          "base_uri": "https://localhost:8080/"
        },
        "id": "P7Y0LIKuc3Ym",
        "outputId": "f8acdf33-45ae-4fd9-a8ef-eb24d0dec092"
      },
      "execution_count": 15,
      "outputs": [
        {
          "output_type": "stream",
          "name": "stdout",
          "text": [
            "Linear Kernel SVM Results:\n",
            "Confusion Matrix:\n",
            "[[152   2]\n",
            " [  0 121]]\n",
            "Classification Report:\n",
            "              precision    recall  f1-score   support\n",
            "\n",
            "           0       1.00      0.99      0.99       154\n",
            "           1       0.98      1.00      0.99       121\n",
            "\n",
            "    accuracy                           0.99       275\n",
            "   macro avg       0.99      0.99      0.99       275\n",
            "weighted avg       0.99      0.99      0.99       275\n",
            "\n",
            "\n",
            "RBF Kernel SVM Results:\n",
            "Confusion Matrix:\n",
            "[[154   0]\n",
            " [  0 121]]\n",
            "Classification Report:\n",
            "              precision    recall  f1-score   support\n",
            "\n",
            "           0       1.00      1.00      1.00       154\n",
            "           1       1.00      1.00      1.00       121\n",
            "\n",
            "    accuracy                           1.00       275\n",
            "   macro avg       1.00      1.00      1.00       275\n",
            "weighted avg       1.00      1.00      1.00       275\n",
            "\n"
          ]
        }
      ]
    },
    {
      "cell_type": "markdown",
      "source": [
        "Exercise 2"
      ],
      "metadata": {
        "id": "woZfl33kdsCM"
      }
    },
    {
      "cell_type": "code",
      "source": [
        "import pandas as pd\n",
        "from sklearn.model_selection import train_test_split\n",
        "from sklearn.preprocessing import StandardScaler, MinMaxScaler\n",
        "from sklearn.neighbors import KNeighborsRegressor\n",
        "from sklearn.metrics import r2_score\n",
        "\n",
        "# Step 0: Read data into a pandas DataFrame\n",
        "df = pd.read_csv('/content/weight-height (5).csv')\n",
        "\n",
        "# Step 1: Extract feature (X) and target variable (y)\n",
        "X = df[['Height']]  # Feature variable: height in centimeters\n",
        "y = df['Weight'] / 2.205  # Target variable: weight in kilograms\n",
        "\n",
        "# Step 2: Split the data into training and testing sets with an 80/20 ratio\n",
        "X_train, X_test, y_train, y_test = train_test_split(X, y, test_size=0.2, random_state=20)\n",
        "\n",
        "# Step 3: Scale the training and testing data using normalization and standardization\n",
        "scaler_norm = MinMaxScaler()\n",
        "X_train_norm = scaler_norm.fit_transform(X_train)\n",
        "X_test_norm = scaler_norm.transform(X_test)\n",
        "\n",
        "scaler_std = StandardScaler()\n",
        "X_train_std = scaler_std.fit_transform(X_train)\n",
        "X_test_std = scaler_std.transform(X_test)\n",
        "\n",
        "# Step 4: Fit a KNN regression model with k=5 to the training data without scaling\n",
        "knn_model = KNeighborsRegressor(n_neighbors=5)\n",
        "knn_model.fit(X_train, y_train)\n",
        "y_pred_unscaled = knn_model.predict(X_test)\n",
        "r2_unscaled = r2_score(y_test, y_pred_unscaled)\n",
        "\n",
        "# Step 5: Fit a KNN regression model with k=5 to the normalized training data\n",
        "knn_model_norm = KNeighborsRegressor(n_neighbors=5)\n",
        "knn_model_norm.fit(X_train_norm, y_train)\n",
        "y_pred_norm = knn_model_norm.predict(X_test_norm)\n",
        "r2_norm = r2_score(y_test, y_pred_norm)\n",
        "\n",
        "# Step 6: Fit a KNN regression model with k=5 to the standardized training data\n",
        "knn_model_std = KNeighborsRegressor(n_neighbors=5)\n",
        "knn_model_std.fit(X_train_std, y_train)\n",
        "y_pred_std = knn_model_std.predict(X_test_std)\n",
        "r2_std = r2_score(y_test, y_pred_std)\n",
        "\n",
        "# Step 7: Compare the models in terms of their R² value\n",
        "print(\"R² value (Unscaled):\", r2_unscaled)\n",
        "print(\"R² value (Normalized):\", r2_norm)\n",
        "print(\"R² value (Standardized):\", r2_std)"
      ],
      "metadata": {
        "colab": {
          "base_uri": "https://localhost:8080/"
        },
        "id": "R_itQON0dURJ",
        "outputId": "9caf670f-c202-4a79-bf70-b3bb6502fdc3"
      },
      "execution_count": 16,
      "outputs": [
        {
          "output_type": "stream",
          "name": "stdout",
          "text": [
            "R² value (Unscaled): 0.8327437044707436\n",
            "R² value (Normalized): 0.8327437044707436\n",
            "R² value (Standardized): 0.8327437044707436\n"
          ]
        }
      ]
    }
  ]
}